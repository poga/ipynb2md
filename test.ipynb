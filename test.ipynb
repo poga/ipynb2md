{
 "cells": [
  {
   "execution_count": 1,
   "metadata": {
    "collapsed": false
   },
   "outputs": [
    {
     "execution_count": 1,
     "data": {
      "text/plain": [
       "<Buffer 22 44 61 74 65 2f 54 69 6d 65 22 2c 22 4c 61 74 22 2c 22 4c 6f 6e 22 2c 22 42 61 73 65 22 0a 22 34 2f 31 2f 32 30 31 34 20 30 3a 31 31 3a 30 30 22 2c ... >"
      ]
     },
     "metadata": {},
     "output_type": "execute_result"
    }
   ],
   "cell_type": "code",
   "outputExpanded": false,
   "source": [
    "const fs = require('fs')\n",
    "fs.readFileSync('./uber-raw-data-apr14.csv')"
   ]
  },
  {
   "cell_type": "markdown",
   "metadata": {},
   "source": [
    "# hi"
   ]
  },
  {
   "cell_type": "code",
   "execution_count": null,
   "metadata": {
    "collapsed": false
   },
   "source": [],
   "outputs": []
  }
 ],
 "nbformat": 4,
 "nbformat_minor": 0,
 "metadata": {
  "kernelspec": {
   "name": "javascript",
   "language": "javascript",
   "display_name": "Javascript (Node.js)"
  },
  "kernel_info": {
   "name": "javascript"
  },
  "language_info": {
   "name": "javascript",
   "version": "7.1.0",
   "mimetype": "application/javascript",
   "file_extension": ".js"
  }
 }
}